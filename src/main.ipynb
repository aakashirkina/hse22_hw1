{
  "nbformat": 4,
  "nbformat_minor": 0,
  "metadata": {
    "colab": {
      "provenance": [],
      "collapsed_sections": []
    },
    "kernelspec": {
      "name": "python3",
      "display_name": "Python 3"
    },
    "language_info": {
      "name": "python"
    }
  },
  "cells": [
    {
      "cell_type": "code",
      "execution_count": 1,
      "metadata": {
        "id": "YxFLW1XoXLNe"
      },
      "outputs": [],
      "source": [
        "import re"
      ]
    },
    {
      "cell_type": "code",
      "source": [
        "def analysis(path):\n",
        "    file = open(path, \"r\")\n",
        "    lengths = []\n",
        "    total_length, quantity, max_length, length, score = 0, 0, 0, 0, 0\n",
        "    maximum_sequence, current_sequence = \"\", \"\"\n",
        "    for line in file:\n",
        "        if (line[0] == \">\"):\n",
        "            if quantity != 0:\n",
        "                lengths.append(length)\n",
        "            quantity += 1\n",
        "            if length >= max_length:\n",
        "                max_length = length\n",
        "                maximum_sequence = current_sequence\n",
        "            current_sequence = \"\"\n",
        "            length = 0\n",
        "        else:\n",
        "            current_sequence += line.strip()\n",
        "            length += len(line.strip())\n",
        "            total_length += len(line.strip())\n",
        "     \n",
        "    lengths.sort(reverse = True) \n",
        "    for i in lengths:\n",
        "        score += i\n",
        "        if score >= total_length / 2:\n",
        "          print(f\"Общее количество: {quantity},\\nОбщая длина: {total_length},\\n\\\n",
        "Максимальная длина: {max_length},\\nN50: {i}\\n\")\n",
        "          break\n",
        "    return maximum_sequence"
      ],
      "metadata": {
        "id": "Dwi5Ot3rXqQn"
      },
      "execution_count": 24,
      "outputs": []
    },
    {
      "cell_type": "code",
      "source": [
        "contig = analysis(\"Poil_contig.fa\")"
      ],
      "metadata": {
        "colab": {
          "base_uri": "https://localhost:8080/"
        },
        "id": "eE83iKBuYPGR",
        "outputId": "402fc3a9-65ca-4596-8551-fb618bd545bc"
      },
      "execution_count": 25,
      "outputs": [
        {
          "output_type": "stream",
          "name": "stdout",
          "text": [
            "Общее количество: 606,\n",
            "Общая длина: 3923405,\n",
            "Максимальная длина: 179304,\n",
            "N50: 48054\n",
            "\n"
          ]
        }
      ]
    },
    {
      "cell_type": "code",
      "source": [
        "scaffolds = analysis(\"Poil_scaffold.fa\")"
      ],
      "metadata": {
        "colab": {
          "base_uri": "https://localhost:8080/"
        },
        "id": "K_upgDLMd8Rf",
        "outputId": "c3353acf-d748-4f3b-e5aa-ab166095a0a9"
      },
      "execution_count": 26,
      "outputs": [
        {
          "output_type": "stream",
          "name": "stdout",
          "text": [
            "Общее количество: 71,\n",
            "Общая длина: 3871958,\n",
            "Максимальная длина: 3831358,\n",
            "N50: 3831358\n",
            "\n"
          ]
        }
      ]
    },
    {
      "cell_type": "code",
      "source": [
        "print(\"Гэпы:\")\n",
        "print(f\"Общая длина: {scaffolds.count('N')}\")\n",
        "scaffolds = re.sub(r\"N{2,}\", \"N\", scaffolds)\n",
        "print(f\"Количество: {scaffolds.count('N')}\")"
      ],
      "metadata": {
        "colab": {
          "base_uri": "https://localhost:8080/"
        },
        "id": "im4-Os_zeHIl",
        "outputId": "6c441fae-5068-48b2-9c91-1edd9e793dea"
      },
      "execution_count": 27,
      "outputs": [
        {
          "output_type": "stream",
          "name": "stdout",
          "text": [
            "Гэпы:\n",
            "Общая длина: 6338\n",
            "Количество: 64\n"
          ]
        }
      ]
    },
    {
      "cell_type": "code",
      "source": [
        "scaffold_closed = analysis(\"Poil_gapClosed.fa\")"
      ],
      "metadata": {
        "colab": {
          "base_uri": "https://localhost:8080/"
        },
        "id": "Hqx1UKwfelZ-",
        "outputId": "19f37d67-9340-4d64-d101-22b9aaf6c1c7"
      },
      "execution_count": 28,
      "outputs": [
        {
          "output_type": "stream",
          "name": "stdout",
          "text": [
            "Общее количество: 71,\n",
            "Общая длина: 3918416,\n",
            "Максимальная длина: 3877520,\n",
            "N50: 3877520\n",
            "\n"
          ]
        }
      ]
    },
    {
      "cell_type": "code",
      "source": [
        "print(f\"Общая длина для обрезанных чтений: {scaffold_closed.count('N')}\")\n",
        "scaffold_closed = re.sub(r\"N{2,}\", \"N\", scaffold_closed)\n",
        "print(f\"Количество для обрезанных чтений: {scaffold_closed.count('N')}\")"
      ],
      "metadata": {
        "colab": {
          "base_uri": "https://localhost:8080/"
        },
        "id": "flDBGydWewdU",
        "outputId": "c83cef42-20f3-4708-9096-d58a545d0dd8"
      },
      "execution_count": 29,
      "outputs": [
        {
          "output_type": "stream",
          "name": "stdout",
          "text": [
            "Общая длина для обрезанных чтений: 1740\n",
            "Количество для обрезанных чтений: 8\n"
          ]
        }
      ]
    }
  ]
}